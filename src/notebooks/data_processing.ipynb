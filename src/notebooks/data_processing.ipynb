{
 "cells": [
  {
   "cell_type": "markdown",
   "metadata": {},
   "source": [
    "# Data Processing"
   ]
  },
  {
   "cell_type": "code",
   "execution_count": 1,
   "metadata": {},
   "outputs": [],
   "source": [
    "import numpy as np\n",
    "import pandas as pd\n",
    "\n",
    "# to render plotly in HTML\n",
    "# ref: https://stackoverflow.com/questions/43562671/plotly-graph-shows-a-blank-space-on-github\n",
    "import plotly.io as pio\n",
    "pio.renderers.default = \"notebook\"\n",
    "\n",
    "# hide warnings\n",
    "import warnings\n",
    "warnings.filterwarnings('ignore')\n",
    "\n",
    "# for visualization\n",
    "import plotly.express as px\n",
    "import plotly.graph_objects as go\n",
    "import matplotlib as mpl\n",
    "import matplotlib.pyplot as plt\n",
    "import seaborn as sns\n",
    "\n",
    "import sys\n",
    "sys.path.insert(1, '../scripts')\n",
    "dd = __import__('data_download')\n"
   ]
  },
  {
   "cell_type": "markdown",
   "metadata": {},
   "source": [
    "There are X group of features:\n",
    "\n",
    "- Track: track_name, track_uri, track_pop\n",
    "- Artist: artist_name, artist_uri\n",
    "- Playlist: playlist_name, playlist_uri\n",
    "- Audio Features: dancebility, energy, loudness, speechiness, acousticness, instrumentalness, liveness, valence, mode, key, tempo, duration_ms, time_signature\n",
    "\n",
    "**NOTES** KEEP RECOMMENDATION PURPOSE IN MIND\n"
   ]
  },
  {
   "cell_type": "code",
   "execution_count": 2,
   "metadata": {},
   "outputs": [],
   "source": [
    "# Step 1: Drop duplicates songs in different playlists\n",
    "# Step 2: Select relevant feature, track_name/id, artist_name/id, audio features, key, tempo, artist_pop, genres, track_pop \n",
    "# (*Note only artist genre is available https://stackoverflow.com/questions/61624487/extract-artist-genre-and-song-release-date-using-spotipy) \n",
    "# Step 3: Concatenate genre into a list\n",
    "\n",
    "# Feature engineer\n",
    "# Step 4: Genres: one-hot encoding, TD-IDF\n",
    "# Step 5: Pop (track, artist): scale to normalized to range (0, 1)\n",
    "# Step 6: Audio features: danceability, energy, speechiness, acousticness, instrumentalness, liveness, valence, loudness, tempo, and duration? normalization\n",
    "# Step 7: Key: one-hot encoding\n",
    "# Step 8: Track_name: Sentiment analysis for Subjectivity, Polarity and then ohe\n",
    "# Step 9: Lyric?\n",
    "# Step 10: feature engineer wrapper and give weights to different features\n",
    "\n",
    "# *Note: Quick EDA for some features if applicable now and then\n"
   ]
  },
  {
   "cell_type": "markdown",
   "metadata": {},
   "source": [
    "Content-based Filtering"
   ]
  },
  {
   "cell_type": "code",
   "execution_count": 3,
   "metadata": {},
   "outputs": [],
   "source": [
    "# Step 1: Playlist Summarization: summarize all songs in a playlist in 1 vectors to compared to all songs in the dataset to find similarities\n",
    "# (*Note: Use track_uri to differentiate among songs, avoid recommending songs that already in the playlist)\n",
    "# Step 2: Finding similarity between summarized playlist vector and vectors of non-playlist songs. Cosine-similarity\n"
   ]
  },
  {
   "cell_type": "code",
   "execution_count": null,
   "metadata": {},
   "outputs": [],
   "source": []
  }
 ],
 "metadata": {
  "interpreter": {
   "hash": "cffca7661e396efe9b2c926494d620ae793eb6cd8c8eccd02f2f3c52b1c19075"
  },
  "kernelspec": {
   "display_name": "Python 3.10.1 ('recommender_one')",
   "language": "python",
   "name": "python3"
  },
  "language_info": {
   "codemirror_mode": {
    "name": "ipython",
    "version": 3
   },
   "file_extension": ".py",
   "mimetype": "text/x-python",
   "name": "python",
   "nbconvert_exporter": "python",
   "pygments_lexer": "ipython3",
   "version": "3.10.1"
  },
  "orig_nbformat": 4
 },
 "nbformat": 4,
 "nbformat_minor": 2
}
